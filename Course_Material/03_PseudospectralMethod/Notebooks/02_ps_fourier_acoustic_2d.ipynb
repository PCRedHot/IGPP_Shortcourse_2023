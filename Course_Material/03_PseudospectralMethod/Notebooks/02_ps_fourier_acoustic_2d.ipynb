{
 "cells": [
  {
   "cell_type": "markdown",
   "metadata": {},
   "source": [
    "<div style='background-image: url(\"./title01.png\") ; padding: 0px ; background-size: cover ; border-radius: 5px ; height: 200px'>\n",
    "<div style=\"float: right ; margin: 50px ; padding: 20px ; background: rgba(255 , 255 , 255 , 0.7) ; width: 50% ; height: 150px\">\n",
    "<div style=\"position: relative ; top: 50% ; transform: translatey(-50%)\">\n",
    "            <div style=\"font-size: xx-large ; font-weight: 900 ; color: rgba(0 , 0 , 0 , 0.8) ; line-height: 100%\">Computers, Waves, Simulations</div>\n",
    "            <div style=\"font-size: large ; padding-top: 20px ; color: rgba(0 , 0 , 0 , 0.5)\">The Pseudo-Spectral Method - Acoustic Waves in 2D</div>\n",
    "        </div>\n",
    "    </div>\n",
    "</div>"
   ]
  },
  {
   "cell_type": "markdown",
   "metadata": {},
   "source": [
    "This notebook covers the following aspects:\n",
    "* Present a  Fourier Pseudospectral code for solving the 2D acoustic wave equation\n",
    "* Compute the same using using finite difference scheme \n",
    "\n",
    "#### Exercise:\n",
    "* Analyze the disperion behaviour as a function of frequency \n",
    "* **Advanced**: Time the solutions for FD and PS. How much more time does PS need when the FD method looks accurate? "
   ]
  },
  {
   "cell_type": "markdown",
   "metadata": {},
   "source": [
    "## Basic Equations\n",
    "This notebook presents a Fourier Pseudospectral code for solving the 2D acoustic wave equation. Additionally, a solution using finite difference scheme is given for comparison.\n",
    "\n",
    "The problem of solving the wave equation\n",
    "\n",
    "\\begin{equation}\n",
    "\\partial_t^2 p = c^2 (\\partial_{x}^{2}p + \\partial_{z}^{2}p) + s\n",
    "\\end{equation}\n",
    "\n",
    "can be achieved using finite differeces in combination with spectral methods. Here, spatial partial derivatives with respect to $x$ and $z$ are computed via the Fourier method, i.e. \n",
    "\n",
    "\\begin{equation}\n",
    "\\partial_{x}^{2}p + \\partial_{z}^{2}p = \\mathscr{F}^{-1}[-k_{x}^{2}\\mathscr{F}[p]] + \\mathscr{F}^{-1}[-k_{z}^{2}\\mathscr{F}[p]]\n",
    "\\end{equation}\n",
    "\n",
    "where $\\mathscr{F}$ represents the Fourier transform operator.\n",
    "\n",
    "As it was the case in previous numerical solutions, we use a standard 3-point finite-difference operator to approximate the time derivatives. Then, the pressure field is extrapolated as\n",
    "\n",
    "\\begin{equation}\n",
    "\\frac{p_{j,k}^{n+1} - 2p_{j,k}^{n} + p_{j,k}^{n-1}}{dt^2}= c_{j,k}^{2} (\\partial_{x}^{2}p + \\partial_{z}^{2}p)_{j,k} + s_{j,k}^{n}\n",
    "\\end{equation}"
   ]
  },
  {
   "cell_type": "code",
   "execution_count": 1,
   "metadata": {
    "code_folding": []
   },
   "outputs": [],
   "source": [
    "# Import all necessary libraries, this is a configuration step for the exercise.\n",
    "# Please run it before the simulation code!\n",
    "import numpy as np\n",
    "import matplotlib\n",
    "%matplotlib ipympl\n",
    "# Show Plot in The Notebook\n",
    "import matplotlib.pyplot as plt\n",
    "from ricker import ricker"
   ]
  },
  {
   "cell_type": "markdown",
   "metadata": {},
   "source": [
    "### 1. Fourier derivative method  "
   ]
  },
  {
   "cell_type": "code",
   "execution_count": 2,
   "metadata": {
    "code_folding": [
     0
    ]
   },
   "outputs": [],
   "source": [
    "def fourier_derivative_2nd(f, dx):\n",
    "    # Length of vector f\n",
    "    nx = np.size(f)\n",
    "    # Initialize k vector up to Nyquist wavenumber \n",
    "    kmax = np.pi / dx\n",
    "    dk = kmax / (nx / 2)\n",
    "    k = np.arange(float(nx))\n",
    "    k[: int(nx/2)] = k[: int(nx/2)] * dk \n",
    "    k[int(nx/2) :] = k[: int(nx/2)] - kmax\n",
    "    \n",
    "    # Fourier derivative\n",
    "    ff = np.fft.fft(f)\n",
    "    ff = (1j*k)**2 * ff\n",
    "    df_num = np.real(np.fft.ifft(ff))\n",
    "    return df_num"
   ]
  },
  {
   "cell_type": "markdown",
   "metadata": {},
   "source": [
    "### 2. Initialization of setup"
   ]
  },
  {
   "cell_type": "code",
   "execution_count": 3,
   "metadata": {
    "code_folding": []
   },
   "outputs": [],
   "source": [
    "# Basic parameters\n",
    "# ---------------------------------------------------------------\n",
    "nt    = 600     # number of time steps\n",
    "nx    = 256     # number of grid points in x \n",
    "nz    = nx      # number of grid points in z\n",
    "c     = 343.    # acoustic velocity\n",
    "eps   = .2      # stability limit\n",
    "isnap = 600     # snapshot frequency\n",
    "isx   = int(nx/2)   # source location\n",
    "isz   = int(nz/2)\n",
    "f0    = 200.    # Frequency (div by 5)\n",
    "xmax  = 200\n",
    "iplot = 20\n",
    "\n",
    "# initialization of pressure fields\n",
    "ap = np.zeros((nx, nz), dtype=float)\n",
    "apnew = np.zeros((nx, nz), dtype=float)\n",
    "apold = np.zeros((nx, nz), dtype=float)\n",
    "ad2px = np.zeros((nx, nz), dtype=float)\n",
    "ad2pz = np.zeros((nx, nz), dtype=float) \n",
    " \n",
    "sp = np.zeros((nx, nz), dtype= float)\n",
    "spnew = np.zeros((nx, nz), dtype=float)\n",
    "spold = np.zeros((nx, nz), dtype=float)\n",
    "sd2px = np.zeros((nx, nz), dtype=float)\n",
    "sd2pz = np.zeros((nx, nz), dtype=float); \n",
    "\n",
    "sp_sec = -np.abs(sp[1:int(nx/2), 1:int(nz/2)])\n",
    "ap_sec = -np.abs(ap[int(nx/2):nx, 1:int(nz/2)].T)\n",
    "\n",
    "dx = xmax/(nx-1)  # calculate space increment\n",
    "x  = np.arange(0, nx)*dx # initialize space coordinates\n",
    "z  = np.arange(0, nx)*dx # initialize space coordinates\n",
    "dt = eps*dx/c # calculate tim step from stability criterion"
   ]
  },
  {
   "cell_type": "markdown",
   "metadata": {},
   "source": [
    "### 3. Source Initialization "
   ]
  },
  {
   "cell_type": "code",
   "execution_count": 4,
   "metadata": {
    "code_folding": []
   },
   "outputs": [],
   "source": [
    "# source time function\n",
    "# ---------------------------------------------------------------\n",
    "t   = np.arange(1, nt+1)*dt  # initialize time axis\n",
    "T0  = 1./f0\n",
    "tmp = ricker(dt, T0)\n",
    "tmp = np.diff(tmp)\n",
    "src = np.zeros(nt)\n",
    "src[0:np.size(tmp)] = tmp\n",
    "lam = c*T0\n",
    "\n",
    "# spatial source function\n",
    "# ---------------------------------------------------------------\n",
    "sg = np.zeros((nx, nz), dtype= float)\n",
    "sigma = 1.5*dx\n",
    "x0 = x[isx-1] \n",
    "z0 = z[isz-1] \n",
    "for i in range(nx):\n",
    "    for j in range(nz):\n",
    "        sg[i,j] = np.exp(-1/sigma**2 * ((x[i]-x0)**2 +(z[j]-z0)**2))\n",
    "        \n",
    "sg = sg/np.amax(sg)"
   ]
  },
  {
   "cell_type": "markdown",
   "metadata": {},
   "source": [
    "### 4. Time Extrapolation\n",
    "The final solution for our 2D acoustic wave problem after taking into account the finite differences time extrapolation can be written as \n",
    "\n",
    "\\begin{equation}\n",
    "p_{j,k}^{n+1} = dt^2c_{j,k}^{2} (\\partial_{x}^{2}p + \\partial_{z}^{2}p)_{j,k} + dt^2s_{j,k}^{n} + 2p_{j,k}^{n} - p_{j,k}^{n-1}\n",
    "\\end{equation}\n",
    "\n",
    "In order to compare the above numerical solution, we implement a 5-point finite difference operator to compute spatial derivatives\n",
    "\n",
    "\\begin{equation}\n",
    "\\partial_t^2 p(x,t) = \\frac{-p(x,t+2\\mathrm{d}t) + 16p(x,t+\\mathrm{d}t) - 30p(x,t) + 16p(x,t-\\mathrm{d}t) - p(x,t-2\\mathrm{d}t)}{12\\mathrm{d}t^2} \n",
    "\\end{equation}\n",
    "\n",
    "temporal derivative is done with a 3-point finite difference operator.\n",
    "\n",
    "#### Numerical dispersion and anysotropy\n",
    "\n",
    "One of the most significant characteristics of the fourier method is the low numerical dispersion in comparison with the finite difference method. The snapshots displayed below for both solutions allow us to brifly comment two significant observations:\n",
    "\n",
    "1) There is strong anisotropic dispersion behaviour visible for the finite-difference solution. The most accurate direction occur at $\\theta = \\pi/4$ \n",
    "\n",
    "2) The Fourier solution do not exhibit significant dispersion, but the most importantly, it does not seem to be directionally dependent. In other words the error is isotropic. "
   ]
  },
  {
   "cell_type": "code",
   "execution_count": 5,
   "metadata": {
    "code_folding": []
   },
   "outputs": [
    {
     "data": {
      "application/vnd.jupyter.widget-view+json": {
       "model_id": "ff3a62e02b3d44a2846e9ba8e556f43c",
       "version_major": 2,
       "version_minor": 0
      },
      "image/png": "[encoded data removed]",
      "text/html": [
       "\n",
       "            <div style=\"display: inline-block;\">\n",
       "                <div class=\"jupyter-widgets widget-label\" style=\"text-align: center;\">\n",
       "                    Figure\n",
       "                </div>\n",
       "                <img src='data:image/png;base64,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' width=1000.0/>\n",
       "            </div>\n",
       "        "
      ],
      "text/plain": [
       "Canvas(toolbar=Toolbar(toolitems=[('Home', 'Reset original view', 'home', 'home'), ('Back', 'Back to previous …"
      ]
     },
     "metadata": {},
     "output_type": "display_data"
    }
   ],
   "source": [
    "# Initialize animated plot\n",
    "# ---------------------------------------------------------------\n",
    "fig = plt.figure(figsize=(10,6))\n",
    "ax1 = fig.add_subplot(1,2,1)\n",
    "ax2 = fig.add_subplot(1,2,2)\n",
    "line1 = ax1.imshow(sp_sec, interpolation=\"bicubic\", cmap=plt.cm.RdBu)\n",
    "line2 = ax2.imshow(ap_sec, interpolation=\"bicubic\", cmap=plt.cm.RdBu)\n",
    "ax1.set_title('Fourier Method', size=14)\n",
    "ax2.set_title('Finite-Difference Method', size=14)\n",
    "\n",
    "plt.ion()   # set interective mode\n",
    "plt.show()\n"
   ]
  },
  {
   "cell_type": "code",
   "execution_count": 6,
   "metadata": {
    "code_folding": []
   },
   "outputs": [],
   "source": [
    "# Time extrapolation\n",
    "# ---------------------------------------------------------------\n",
    "for it in range(nt):\n",
    "   \n",
    "    # ----------------------------------------\n",
    "    # Fourier Pseudospectral Method\n",
    "    # ----------------------------------------\n",
    "    # 2nd space derivative\n",
    "    for j in np.arange(nz):           \n",
    "        sd2px[:,j] = fourier_derivative_2nd(sp[:,j].T, dx) \n",
    "    for i in np.arange(nx):           \n",
    "        sd2pz[i,:] = fourier_derivative_2nd(sp[i,:], dx)\n",
    "        \n",
    "    # Time Extrapolation\n",
    "    spnew = 2*sp - spold + c**2 * dt**2 * (sd2px + sd2pz)    \n",
    "    spnew = spnew + sg*src[it]*dt**2 # Add sources   \n",
    "    spold, sp = sp, spnew # Time levels\n",
    "    \n",
    "    # ----------------------------------------\n",
    "    # Finite Differences Method 5pt\n",
    "    # ----------------------------------------\n",
    "    for i in range(2, nz-2):\n",
    "        ad2px[i,:] = (-1./12*ap[i+2,:] + 4./3*ap[i+1,:] - 5./2*ap[i,:] \\\n",
    "                      + 4./3*ap[i-1,:] - 1./12*ap[i-2,:])/dx**2 # Space derivative \n",
    "    for i in range(2, nx-2):\n",
    "        ad2pz[:,i] = (-1./12*ap[:,i+2] + 4./3*ap[:,i+1] - 5./2*ap[:,i] \\\n",
    "                      + 4./3*ap[:,i-1] - 1./12*ap[:,i-2])/dx**2 # Space derivative \n",
    "        \n",
    "    apnew = 2*ap - apold + dt**2 * c**2 * (ad2px + ad2pz) # Time Extrapolation    \n",
    "    apnew = apnew + sg*src[it]*dt**2 # Add source    \n",
    "    apold, ap = ap, apnew # Time levels\n",
    "    \n",
    "    # Select Sections for plotting\n",
    "    sp_sec = -np.abs(sp[1:int(nx/2), 1:int(nz/2)])\n",
    "    ap_sec = -np.abs(ap[int(nx/2):nx, 1:int(nz/2)].T)\n",
    "    \n",
    "    # --------------------------------------  \n",
    "    # Animation plot. Display solution  \n",
    "    # --------------------------------------\n",
    "    if not it % iplot:                    \n",
    "        # Display Solution\n",
    "        # -------------------------------------- \n",
    "        line1 = ax1.imshow(sp_sec, interpolation=\"bicubic\", cmap=plt.cm.RdBu) \n",
    "        line2 = ax2.imshow(ap_sec, interpolation=\"bicubic\", cmap=plt.cm.RdBu)\n",
    "        plt.gcf().canvas.draw()\n",
    "     "
   ]
  },
  {
   "cell_type": "code",
   "execution_count": null,
   "metadata": {},
   "outputs": [],
   "source": []
  }
 ],
 "metadata": {
  "anaconda-cloud": {},
  "kernelspec": {
   "display_name": "Python 3 (ipykernel)",
   "language": "python",
   "name": "python3"
  },
  "language_info": {
   "codemirror_mode": {
    "name": "ipython",
    "version": 3
   },
   "file_extension": ".py",
   "mimetype": "text/x-python",
   "name": "python",
   "nbconvert_exporter": "python",
   "pygments_lexer": "ipython3",
   "version": "3.10.12"
  }
 },
 "nbformat": 4,
 "nbformat_minor": 4
}
