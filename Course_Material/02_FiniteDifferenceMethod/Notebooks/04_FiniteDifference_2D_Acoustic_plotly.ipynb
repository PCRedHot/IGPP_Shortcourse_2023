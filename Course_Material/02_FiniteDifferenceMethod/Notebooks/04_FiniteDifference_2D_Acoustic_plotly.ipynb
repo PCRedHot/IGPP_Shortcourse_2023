{
 "cells": [
  {
   "cell_type": "markdown",
   "metadata": {},
   "source": [
    "<div style='background-image: url(\"./title01.png\") ; padding: 0px ; background-size: cover ; border-radius: 5px ; height: 200px'>\n",
    "<div style=\"float: right ; margin: 50px ; padding: 20px ; background: rgba(255 , 255 , 255 , 0.7) ; width: 50% ; height: 150px\">\n",
    "<div style=\"position: relative ; top: 50% ; transform: translatey(-50%)\">\n",
    "            <div style=\"font-size: xx-large ; font-weight: 900 ; color: rgba(0 , 0 , 0 , 0.8) ; line-height: 100%\">Computers, Waves, Simulations</div>\n",
    "            <div style=\"font-size: large ; padding-top: 20px ; color: rgba(0 , 0 , 0 , 0.5)\">Finite-Difference Method - Acoustic Waves 2D - Heterogeneous case</div>\n",
    "        </div>\n",
    "    </div>\n",
    "</div>"
   ]
  },
  {
   "cell_type": "markdown",
   "metadata": {},
   "source": [
    "This exercise covers the following aspects:\n",
    "\n",
    "* Presenting you with an implementation of the 2D acoustic wave equation \n",
    "* Allowing you to explore the benefits of using high-order finite-difference operators\n",
    "* Understanding the concepts of stability (Courant criterion)\n",
    "* Exploration of numerical dispersion and numerical grid anisotropy\n",
    "* Changing the earth model and exploring some effects of structural heterogeneities (e.g., fault zones)\n",
    "\n",
    "---"
   ]
  },
  {
   "cell_type": "markdown",
   "metadata": {},
   "source": [
    "## Basic Equations\n",
    "\n",
    "The acoustic wave equation in 2D is \n",
    "$$\n",
    "\\ddot{p}(x,z,t) \\ = \\ c(x,z)^2 (\\partial_x^2 p(x,z,t) + \\partial_z^2 p(x,z,t)) \\ + s(x,z,t)\n",
    "$$\n",
    "\n",
    "and we replace the time-dependent (upper index time, lower indices space) part by\n",
    "\n",
    "$$\n",
    " \\frac{p_{j,k}^{n+1} - 2 p_{j,k}^n + p_{j,k}^{n-1}}{\\mathrm{d}t^2} \\ = \\ c_j^2 ( \\partial_x^2 p + \\partial_z^2 p) \\ + s_{j,k}^n\n",
    "$$\n",
    "\n",
    "solving for $p_{j,k}^{n+1}$. \n",
    "The extrapolation scheme is\n",
    "$$\n",
    "p_{j,k}^{n+1} \\ = \\ c_j^2 \\mathrm{d}t^2 \\left[ \\partial_x^2 p + \\partial_z^2 p \\right]\n",
    "+ 2p_{j,k}^n - p_{j,k}^{n-1} + \\mathrm{d}t^2 s_{j,k}^n\n",
    "$$\n",
    "The  space derivatives are determined by \n",
    "\n",
    "$$\n",
    "\\partial_x^2 p \\ = \\ \\frac{p_{j+1,k}^{n} - 2 p_{j,k}^n + p_{j-1,k}^{n}}{\\mathrm{d}x^2}\n",
    "$$\n",
    "$$\n",
    "\\partial_z^2 p \\ = \\ \\frac{p_{j,k+1}^{n} - 2 p_{j,k}^n + p_{j,k-1}^{n}}{\\mathrm{d}z^2} \n",
    "$$\n",
    "\n",
    "---"
   ]
  },
  {
   "cell_type": "markdown",
   "metadata": {},
   "source": [
    "### 1. Getting started\n",
    "Relate the time extrapolation loop with the numerical algorithm we developed in the course. Understand the input parameters for the simulation and the plots that are generated. Modify source and receiver locations and observe the effects on the seismograms. \n",
    "\n",
    "### 2. Stability\n",
    "The Courant criterion is defined as $eps = (v \\cdot dt) / dx$ and provides the maximum possible, stable time step, with $v$ beeing the velocity, $dt$ the time step and $dx$ the spatial step. Determine numerically the stability limit of the code as accurately as possible by increasing the time step. Print the max value of the pressure field at each time step and observe the evolution of it in the case of stable and unstable simulations. \n",
    "\n",
    "\n",
    "### 3. Numerical anisotropy\n",
    "Increase the frequency of the wavefield by varying $f_0$. Investigate the angular dependence of the wavefield. Why does the wavefield look anisotropic? Which direction is the most accurate and why? What happens if you set the source time function to a spike (zero everywhere except one element with value $1$). \n",
    "\n",
    "### 4. Heterogeneous models\n",
    "Change the various pre-implemented heterogeneous models. Invent a heterogeneous model of your liking and implement it appropriately. \n",
    "\n",
    "\n",
    "\n",
    "---"
   ]
  },
  {
   "cell_type": "code",
   "execution_count": null,
   "metadata": {
    "code_folding": []
   },
   "outputs": [],
   "source": [
    "# Import Libraries\n",
    "# ----------------------------------------------\n",
    "import numpy as np\n",
    "import plotly.graph_objects as go\n",
    "\n",
    "from plotly.subplots import make_subplots"
   ]
  },
  {
   "cell_type": "markdown",
   "metadata": {},
   "source": [
    "Below is the 2D acoustic simulation code:"
   ]
  },
  {
   "cell_type": "code",
   "execution_count": null,
   "metadata": {
    "code_folding": []
   },
   "outputs": [],
   "source": [
    "# Simple finite difference solver \n",
    "# Acoustic wave equation  p_tt = c^2 p_xx + src\n",
    "# 2-D regular grid\n",
    "\n",
    "nx = 200      # grid points in x - 500\n",
    "nz = 200      # grid points in z - 500\n",
    "nt = 1000     # number of time steps\n",
    "dx = 10.0     # grid increment in x - 1\n",
    "dt = 0.001    # Time step\n",
    "c0 = 3000.0   # velocity (can be an array) - 580\n",
    "isx = nx // 2 # source index x - 250\n",
    "isz = nz // 2 # source index z - 250\n",
    "ist = 100     # shifting of source time function\n",
    "f0 = 50.0     # dominant frequency of source (Hz)\n",
    "isnap = 10    # snapshot frequency\n",
    "T = 1.0 / f0  # dominant period\n",
    "nop = 5       # length of operator\n",
    "\n",
    "# Model type, available are \"homogeneous\", \"fault_zone\",\n",
    "# \"surface_low_velocity_zone\", \"random\", \"topography\",\n",
    "# \"slab\"\n",
    "model_type = \"topography\"\n",
    "\n",
    "# Receiver locations\n",
    "irx = np.array([60, 80, 100, 120, 140])\n",
    "irz = np.array([5, 5, 5, 5, 5])\n",
    "seis = np.zeros((len(irx), nt))\n",
    "\n",
    "# Initialize pressure at different time steps and the second\n",
    "# derivatives in each direction\n",
    "p = np.zeros((nz, nx))\n",
    "pold = np.zeros((nz, nx))\n",
    "pnew = np.zeros((nz, nx))\n",
    "pxx = np.zeros((nz, nx))\n",
    "pzz = np.zeros((nz, nx))\n"
   ]
  },
  {
   "cell_type": "code",
   "execution_count": null,
   "metadata": {
    "code_folding": []
   },
   "outputs": [],
   "source": [
    "# Initialize velocity model (the fun bit!)\n",
    "c = np.zeros((nz, nx))\n",
    "\n",
    "if model_type == \"homogeneous\":\n",
    "    c += c0\n",
    "elif model_type == \"fault_zone\":\n",
    "    c += c0\n",
    "    c[:, nx // 2 - 5: nx // 2 + 5] *= 0.8    \n",
    "elif model_type == \"surface_low_velocity_zone\":\n",
    "    c += c0\n",
    "    c[1:10,:] *= 0.8\n",
    "elif model_type == \"random\":\n",
    "    pert = 0.4\n",
    "    r = 2.0 * (np.random.rand(nz, nx) - 0.5) * pert\n",
    "    c += c0 * (1 + r)   \n",
    "elif model_type == \"topography\":\n",
    "    c += c0\n",
    "    c[0 : 10, 10 : 50] = 0                         \n",
    "    c[0 : 10, 105 : 115] = 0                       \n",
    "    c[0 : 30, 145 : 170] = 0\n",
    "    c[10 : 40, 20 : 40]  = 0\n",
    "    c[0 : 15, 50 : 105] *= 0.8    \n",
    "elif model_type == \"slab\":\n",
    "    c += c0\n",
    "    c[110 : 125, 0 : 125] = 1.4 * c0\n",
    "    for i in range(110, 180):\n",
    "        c[i , i-5 : i + 15 ] = 1.4 * c0\n",
    "else:\n",
    "    raise NotImplementedError\n",
    "    \n",
    "cmax = c.max()"
   ]
  },
  {
   "cell_type": "code",
   "execution_count": null,
   "metadata": {
    "code_folding": [
     0
    ]
   },
   "outputs": [],
   "source": [
    "# Source time function Gaussian, nt + 1 as we loose the last one by diff\n",
    "src = np.empty(nt + 1)\n",
    "for it in range(nt):\n",
    "    src[it] = np.exp(-1.0 / T ** 2 * ((it - ist) * dt) ** 2)\n",
    "# Take the first derivative\n",
    "src = np.diff(src) / dt\n",
    "src[nt - 1] = 0"
   ]
  },
  {
   "cell_type": "code",
   "execution_count": null,
   "metadata": {
    "code_folding": [
     0
    ]
   },
   "outputs": [],
   "source": [
    "v = max([np.abs(src.min()), np.abs(src.max())])\n",
    "\n",
    "# Create a color scale\n",
    "colorscale = [[0, 'blue'], [0.5, 'white'], [1, 'red']]\n",
    "\n",
    "# Create a 2D heatmap\n",
    "heatmap = go.Heatmap(z=pnew, colorscale=colorscale, zmin=-v, zmax=v)\n",
    "\n",
    "# Create annotations for receivers\n",
    "annotations = [go.layout.Annotation(\n",
    "    x=x, y=z, text='+', showarrow=False, font=dict(color='black')) for x, z in zip(irx, irz)]\n",
    "annotations.append(go.layout.Annotation(\n",
    "    x=isx, y=isz, text='o', showarrow=False, font=dict(color='black')))\n",
    "\n",
    "# Output Courant criterion\n",
    "print(\"Courant Criterion eps :\")\n",
    "print(cmax*dt/dx)"
   ]
  },
  {
   "cell_type": "code",
   "execution_count": null,
   "metadata": {
    "code_folding": [
     0
    ]
   },
   "outputs": [],
   "source": [
    "ir = np.arange(len(irx))\n",
    "\n",
    "# Time extrapolation\n",
    "frames = []\n",
    "for it in range(nt):\n",
    "    if nop == 3:\n",
    "        # calculate partial derivatives, be careful around the boundaries\n",
    "        for i in range(1, nx - 1):\n",
    "            pzz[:, i] = p[:, i + 1] - 2 * p[:, i] + p[:, i - 1]\n",
    "        for j in range(1, nz - 1):\n",
    "            pxx[j, :] = p[j - 1, :] - 2 * p[j, :] + p[j + 1, :]\n",
    "\n",
    "    if nop == 5:\n",
    "        # calculate partial derivatives, be careful around the boundaries\n",
    "        for i in range(2, nx - 2):\n",
    "            pzz[:, i] = -1./12*p[:, i+2]+4./3*p[:, i+1] - \\\n",
    "                5./2*p[:, i]+4./3*p[:, i-1]-1./12*p[:, i-2]\n",
    "        for j in range(2, nz - 2):\n",
    "            pxx[j, :] = -1./12*p[j+2, :]+4./3*p[j+1, :] - \\\n",
    "                5./2*p[j, :]+4./3*p[j-1, :]-1./12*p[j-2, :]\n",
    "\n",
    "    pxx /= dx ** 2\n",
    "    pzz /= dx ** 2\n",
    "\n",
    "    # Time extrapolation\n",
    "    pnew = 2 * p - pold + dt ** 2 * c ** 2 * (pxx + pzz)\n",
    "    # Add source term at isx, isz\n",
    "    pnew[isz, isx] = pnew[isz, isx] + src[it]\n",
    "\n",
    "    # Save the state of the plot in a frame every isnap-th iteration\n",
    "    if it % isnap == 0:\n",
    "        frames.append(go.Frame(data=[go.Heatmap(z=pnew, colorscale=colorscale, zmin=-v, zmax=v)],\n",
    "                               layout=go.Layout(title_text=\"Max P: %.2f\" % p.max())))\n",
    "\n",
    "    pold, p = p, pnew\n",
    "\n",
    "    # Save seismograms\n",
    "    seis[ir, it] = p[irz[ir], irx[ir]]\n",
    "\n",
    "# Create layout\n",
    "layout = go.Layout(\n",
    "    title='2D Acoustic Finite Difference',\n",
    "    annotations=annotations,\n",
    "    width=600,\n",
    "    height=600,\n",
    "    xaxis=dict(title='ix', showline=True, linewidth=2, linecolor='black', mirror=True),\n",
    "    yaxis=dict(title='iz', autorange='reversed', showline=True, linewidth=2, linecolor='black', mirror=True),\n",
    "    updatemenus=[dict(\n",
    "        type=\"buttons\",\n",
    "        showactive=False,\n",
    "        buttons=[dict(label=\"Play\",\n",
    "                      method=\"animate\",\n",
    "                      args=[None, {\"frame\": {\"duration\": 0, \"redraw\": True},\n",
    "                                   \"fromcurrent\": True, \"transition\": {\"duration\": 0}}],\n",
    "                      ),\n",
    "                 dict(label=\"Pause\",\n",
    "                      method=\"animate\",\n",
    "                      args=[[None], {\"frame\": {\"duration\": 0, \"redraw\": False},\n",
    "                                     \"mode\": \"immediate\",\n",
    "                                     \"transition\": {\"duration\": 0}}],\n",
    "                      )\n",
    "                 ]\n",
    "    )])\n",
    "# Create figure\n",
    "fig = go.Figure(data=[heatmap], layout=layout, frames=frames)\n",
    "\n",
    "fig.show()"
   ]
  },
  {
   "cell_type": "markdown",
   "metadata": {},
   "source": [
    "The cell below allows you to plot source time function, seismic velocites, and the resulting seismograms in windows inside the notebook. Remember to rerun after you simulated again!"
   ]
  },
  {
   "cell_type": "code",
   "execution_count": null,
   "metadata": {
    "code_folding": [
     0
    ]
   },
   "outputs": [],
   "source": [
    "# Create subplot figure\n",
    "fig = make_subplots(rows=2, cols=2)\n",
    "\n",
    "# Add source time function plot\n",
    "time = np.arange(nt) * dt\n",
    "fig.add_trace(go.Scatter(x=time, y=src, mode='lines', name='Source time function', showlegend=False), row=1, col=1)\n",
    "\n",
    "# Add seismograms plot\n",
    "ymax = seis.ravel().max()\n",
    "for ir in range(len(seis)):\n",
    "    fig.add_trace(go.Scatter(x=time, y=seis[ir, :] + ymax * ir, mode='lines', name=f'Seismogram {ir}', showlegend=False), row=2, col=1)\n",
    "\n",
    "# Add velocity model plot\n",
    "fig.add_trace(go.Heatmap(z=c, colorscale='Viridis', name='Velocity Model', colorbar=dict(x=1, y=0.2, thickness=15, len=0.5)), row=2, col=2)\n",
    "\n",
    "# Update layout\n",
    "fig.update_layout(height=800, width=800, title_text=\"Source time function and Seismograms\")\n",
    "fig.update_xaxes(title_text=\"Time (s)\", row=1, col=1)\n",
    "fig.update_xaxes(title_text=\"ix\", row=2, col=2)\n",
    "fig.update_yaxes(title_text=\"Source amplitude\", row=1, col=1)\n",
    "fig.update_yaxes(title_text=\"Amplitude\", row=2, col=1)\n",
    "fig.update_yaxes(title_text=\"iz\", autorange=\"reversed\", title_standoff=5, row=2, col=2)\n",
    "\n",
    "fig.show()"
   ]
  }
 ],
 "metadata": {
  "anaconda-cloud": {},
  "kernelspec": {
   "display_name": "Python 3 (ipykernel)",
   "language": "python",
   "name": "python3"
  },
  "language_info": {
   "codemirror_mode": {
    "name": "ipython",
    "version": 3
   },
   "file_extension": ".py",
   "mimetype": "text/x-python",
   "name": "python",
   "nbconvert_exporter": "python",
   "pygments_lexer": "ipython3",
   "version": "3.10.13"
  }
 },
 "nbformat": 4,
 "nbformat_minor": 4
}
